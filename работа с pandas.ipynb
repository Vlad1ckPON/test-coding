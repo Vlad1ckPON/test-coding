{
 "cells": [
  {
   "cell_type": "code",
   "execution_count": 3,
   "metadata": {},
   "outputs": [],
   "source": [
    "df = pd.read_csv(\"https://stepik.org/media/attachments/lesson/8083/genetherapy.csv\")"
   ]
  },
  {
   "cell_type": "code",
   "execution_count": 10,
   "metadata": {},
   "outputs": [
    {
     "data": {
      "text/plain": [
       "0     A\n",
       "1     A\n",
       "2     A\n",
       "3     A\n",
       "4     A\n",
       "5     A\n",
       "6     A\n",
       "7     A\n",
       "8     A\n",
       "9     A\n",
       "10    A\n",
       "11    A\n",
       "12    A\n",
       "13    A\n",
       "14    A\n",
       "15    B\n",
       "16    B\n",
       "17    B\n",
       "18    B\n",
       "19    B\n",
       "20    B\n",
       "21    B\n",
       "22    B\n",
       "23    B\n",
       "24    B\n",
       "25    B\n",
       "26    B\n",
       "27    B\n",
       "28    B\n",
       "29    B\n",
       "30    C\n",
       "31    C\n",
       "32    C\n",
       "33    C\n",
       "34    C\n",
       "35    C\n",
       "36    C\n",
       "37    C\n",
       "38    C\n",
       "39    C\n",
       "40    C\n",
       "41    C\n",
       "42    C\n",
       "43    C\n",
       "44    C\n",
       "45    D\n",
       "46    D\n",
       "47    D\n",
       "48    D\n",
       "49    D\n",
       "50    D\n",
       "51    D\n",
       "52    D\n",
       "53    D\n",
       "54    D\n",
       "55    D\n",
       "56    D\n",
       "57    D\n",
       "58    D\n",
       "59    D\n",
       "Name: Therapy, dtype: object"
      ]
     },
     "execution_count": 10,
     "metadata": {},
     "output_type": "execute_result"
    }
   ],
   "source": [
    "df[\"Therapy\"]"
   ]
  },
  {
   "cell_type": "code",
   "execution_count": null,
   "metadata": {},
   "outputs": [
    {
     "ename": "",
     "evalue": "",
     "output_type": "error",
     "traceback": [
      "\u001b[1;31mRunning cells with '/bin/python' requires the ipykernel package.\n",
      "\u001b[1;31mRun the following command to install 'ipykernel' into the Python environment. \n",
      "\u001b[1;31mCommand: '/bin/python -m pip install ipykernel -U --user --force-reinstall'"
     ]
    }
   ],
   "source": [
    "import pandas as pd"
   ]
  }
 ],
 "metadata": {
  "kernelspec": {
   "display_name": "Python 3",
   "language": "python",
   "name": "python3"
  },
  "language_info": {
   "codemirror_mode": {
    "name": "ipython",
    "version": 3
   },
   "file_extension": ".py",
   "mimetype": "text/x-python",
   "name": "python",
   "nbconvert_exporter": "python",
   "pygments_lexer": "ipython3",
   "version": "3.10.12"
  },
  "orig_nbformat": 4
 },
 "nbformat": 4,
 "nbformat_minor": 2
}
