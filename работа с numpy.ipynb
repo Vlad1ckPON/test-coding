{
 "cells": [
  {
   "cell_type": "code",
   "execution_count": 1,
   "metadata": {},
   "outputs": [],
   "source": [
    "import numpy as np"
   ]
  },
  {
   "cell_type": "code",
   "execution_count": 2,
   "metadata": {},
   "outputs": [
    {
     "name": "stdout",
     "output_type": "stream",
     "text": [
      "[ 0  9  4 -1 20]\n"
     ]
    }
   ],
   "source": [
    "# это просто массив, который может быть N - мерным, и он имеет больше функционала и просто быстрее чем list\n",
    "data = [0, 9, 4, -1, 20]\n",
    "arr = np.array(data)\n",
    "print(arr)"
   ]
  },
  {
   "cell_type": "code",
   "execution_count": 3,
   "metadata": {},
   "outputs": [
    {
     "name": "stdout",
     "output_type": "stream",
     "text": [
      "[ 0  9  4 -1 20]\n"
     ]
    }
   ],
   "source": [
    "# так можно просто создать мыссив по списку\n",
    "# так же можно создать просто массив без переменных\n",
    "# например \n",
    "arr = np.array([0, 9, 4, -1, 20])\n",
    "print(arr)"
   ]
  },
  {
   "cell_type": "code",
   "execution_count": 4,
   "metadata": {},
   "outputs": [
    {
     "name": "stdout",
     "output_type": "stream",
     "text": [
      "[ 0  9  4 -1 20]\n",
      "(5,)\n",
      "int64\n",
      "1\n",
      "5\n",
      "5\n"
     ]
    }
   ],
   "source": [
    "print(arr)\n",
    "# выводит массив\n",
    "print(arr.shape)\n",
    "# выводит форму массива\n",
    "print(arr.dtype)\n",
    "# выводит тип массива\n",
    "print(arr.ndim)\n",
    "# выводит сколько мерный этот массив\n",
    "print(len(arr))\n",
    "# выводит кол-во элементов в массиве\n",
    "print(arr.size)\n",
    "# выводит размер массива"
   ]
  },
  {
   "cell_type": "code",
   "execution_count": null,
   "metadata": {},
   "outputs": [],
   "source": [
    "# Типы данных numpy\n",
    "# int64 - просто числа 64-бита\n",
    "# float32 - вещественные числа 32 бита\n",
    "# bool - булевые значения\n",
    "# complex - комплексные числа\n",
    "# string - строчные значения\n",
    "# и тд"
   ]
  },
  {
   "cell_type": "code",
   "execution_count": null,
   "metadata": {},
   "outputs": [],
   "source": [
    "# можно указать сразу тип даннах в массиве\n",
    "arr = np.array([0, 9, 4, -1, 20], dtype = float)\n",
    "print(arr.dtype)\n",
    "\n",
    "\n",
    "# еще так можно перевести элементы массива из одного типа данных в другой \n",
    "arr = arr.astype(np.int64)\n",
    "print(arr.dtype)"
   ]
  },
  {
   "cell_type": "code",
   "execution_count": null,
   "metadata": {},
   "outputs": [],
   "source": [
    "# по сути так просто array in range(аналог range), можно задавать шаги, а еще есть метод linspace, который выводит конкретное \n",
    "# кол-во чисел в промежутке\n",
    "arr = np.arange(1, 5, 2)\n",
    "print(arr )\n",
    "\n",
    "arr = np.linspace(1, 5, 5)\n",
    "print(arr)\n",
    "\n",
    "random_arr = np.random.random(5)\n",
    "print(random_arr)\n",
    "\n",
    "# как сделать диапазон случайных чисел от A до B\n",
    "arr = (10 - 5) * np.random.random(5) + 5\n",
    "print(arr)"
   ]
  },
  {
   "cell_type": "code",
   "execution_count": null,
   "metadata": {},
   "outputs": [],
   "source": [
    "# Операции с массивами: sum, sqrt, cos, sin, log exp\n",
    "arr = np.arange(10)\n",
    "print(np.sum(arr))\n",
    "\n",
    "# также можно складывать два массива, умножить, вычитать и делить и  тд\n",
    "a = np.array([1, 2, 3, 4])\n",
    "c = np.array([1, 2, 3, 4])\n",
    "print(a - c)\n",
    "\n",
    "# еще можно делать все эти операции с одним массивом\n",
    "arr = np.array([1, 2, 3, 4])\n",
    "print(arr ** 10)"
   ]
  },
  {
   "cell_type": "code",
   "execution_count": null,
   "metadata": {},
   "outputs": [],
   "source": [
    "# Функции агрегаторы\n",
    "arr = np.random.randint(-5, 10, 10)\n",
    "print(arr.max())\n",
    "print(arr.min())\n",
    "print(arr.mean())\n",
    "print(arr.std())\n",
    "print(arr.sum())\n",
    "# и тд\n",
    "# также можно сравнивать каждый элемент с чем-то\n",
    "print(arr > 2)"
   ]
  },
  {
   "cell_type": "code",
   "execution_count": null,
   "metadata": {},
   "outputs": [],
   "source": [
    "\n",
    "# Манипуляции с массивами\n",
    "arr2 = np.array([1 ,2 ,36, 6])\n",
    "arr = np.array([1, 5, 3, 4, 2])\n",
    "print(np.delete(arr, 2))\n",
    "print(np.insert(arr, 2, 20))\n",
    "print(np.sort(arr))\n",
    "print(np.array_split(arr, 3))"
   ]
  },
  {
   "cell_type": "code",
   "execution_count": null,
   "metadata": {},
   "outputs": [],
   "source": [
    "# Матрицы и многомерные таблицы\n",
    "matrix = np.array([(1, 2, 3), (4 ,5, 6), (7, 8, 9)])\n",
    "print(matrix)\n",
    "print(matrix.shape)\n",
    "# показывает количество строк, и столбцов\n",
    "print(matrix.ndim)\n",
    "# указывает размерность, так как это матрица он указывает размерность 2\n",
    "print(matrix.size)\n",
    "# показывает количество элементов\n",
    "print(matrix.reshape(1, 9))\n",
    "# также можно поменять форму матрицы \n",
    "matrix2 = np.random.random((3, 3))\n",
    "print(matrix2)\n",
    "# можно создать матрицу любого размера с рандомными значениями\n",
    "np.resize(matrix, (2, 2))\n",
    "# resize именно вырезает нужную форму из матрицы, а не меняет ее размер"
   ]
  },
  {
   "cell_type": "code",
   "execution_count": null,
   "metadata": {},
   "outputs": [],
   "source": [
    "# Еще можно комбинировать эти функции\n",
    "matrix = np.arange(16).reshape(4, 4)\n",
    "matrix"
   ]
  },
  {
   "cell_type": "code",
   "execution_count": null,
   "metadata": {},
   "outputs": [],
   "source": [
    "#  Создание специальных матриц\n",
    "print(np.zeros((4, 4)))\n",
    "# матрица из нулей\n",
    "print(\"===\" * 6, end=\" \\n \")\n",
    "print(np.ones((4, 4)))\n",
    "# матрица из единиц\n",
    "print(\"===\" * 6, end=\" \\n \")\n",
    "print(np.full((3, 3), 10))\n",
    "# матрица из одного значения\n",
    "print(\"===\" * 6, end=\" \\n \")\n",
    "print(np.empty((4, 4)))\n",
    "# просто пустая матрица"
   ]
  },
  {
   "cell_type": "code",
   "execution_count": null,
   "metadata": {},
   "outputs": [],
   "source": [
    "# Axis: 0 - ось строк, 1 - ось столбцов\n",
    "matrix = np.array([(1, 2, 3), (4, 5, 6), (7, 8, 9)])\n",
    "print(np.delete(matrix, 1, axis=0))\n",
    "# удаляет именно строку, тк axis = 0\n",
    "print(\"===\" * 6, end=\" \\n \")\n",
    "print(np.delete(matrix, 1, axis=1))\n",
    "# удаляет 1 столбец, тк axis = 1\n",
    "# и так же работают все остальные функции\n",
    "print(matrix.max())\n",
    "# максимальный элемент просто в матрице\n",
    "print(matrix.max(axis=0))\n",
    "# максимальный элемент именно в строке\n",
    "matrix"
   ]
  },
  {
   "cell_type": "code",
   "execution_count": null,
   "metadata": {},
   "outputs": [],
   "source": [
    "# В целом операции с матрицами такие же как с массивами"
   ]
  },
  {
   "cell_type": "code",
   "execution_count": null,
   "metadata": {},
   "outputs": [],
   "source": [
    "\n",
    "# Индексация\n",
    "matrix = np.array([(1, 2, 3), (4, 5, 6), (7, 8, 9)])\n",
    "print(matrix)\n",
    "print(matrix[0, 1])\n",
    "# чтобы найти найти один элемент нужно написать координаты(сначала строка потом столбец)\n",
    "print(matrix[0])\n",
    "# чтобы вывести строку нужно просто написать индекс строки  \n",
    "print(matrix[:,0])\n",
    "# чтобы вывести столбец нужно написать :, и индекс столбца"
   ]
  }
 ],
 "metadata": {
  "kernelspec": {
   "display_name": "Python 3",
   "language": "python",
   "name": "python3"
  },
  "language_info": {
   "codemirror_mode": {
    "name": "ipython",
    "version": 3
   },
   "file_extension": ".py",
   "mimetype": "text/x-python",
   "name": "python",
   "nbconvert_exporter": "python",
   "pygments_lexer": "ipython3",
   "version": "3.11.4"
  },
  "orig_nbformat": 4
 },
 "nbformat": 4,
 "nbformat_minor": 2
}
