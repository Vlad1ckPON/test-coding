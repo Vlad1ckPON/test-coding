{
 "cells": [
  {
   "cell_type": "code",
   "execution_count": 3,
   "metadata": {},
   "outputs": [],
   "source": [
    "import pandas as pd\n",
    "import numpy as np"
   ]
  },
  {
   "cell_type": "code",
   "execution_count": 4,
   "metadata": {},
   "outputs": [],
   "source": [
    "np.random.seed(42)"
   ]
  },
  {
   "cell_type": "code",
   "execution_count": 5,
   "metadata": {},
   "outputs": [],
   "source": [
    "data = {\n",
    "    'Количество сна': [8, 7, 6, 7, 6, 5, 6, 8, 7, 7],\n",
    "    'Средний бал ученика': [4.0, 3.7, 3.5, 3.2, 3.9, 3.0, 4.2, 4.1, 3.8, 4.0],\n",
    "    'Посещение уроков (%)': [95, 85, 70, 80, 65, 50, 75, 90, 80, 85],\n",
    "    'Последняя оценка': [4, 3, 3, 2, 4, 2, 4, 4, 3, 4],\n",
    "    'Сдача экзамена': [1, 0, 0, 0, 1, 0, 1, 1, 0, 1]  # 0 - не сдал, 1 - сдал\n",
    "}"
   ]
  },
  {
   "cell_type": "code",
   "execution_count": 6,
   "metadata": {},
   "outputs": [],
   "source": [
    "df = pd.DataFrame(data)"
   ]
  },
  {
   "cell_type": "code",
   "execution_count": 7,
   "metadata": {},
   "outputs": [],
   "source": [
    "df.to_csv('exams.csv', index=False)"
   ]
  },
  {
   "cell_type": "code",
   "execution_count": null,
   "metadata": {},
   "outputs": [],
   "source": []
  }
 ],
 "metadata": {
  "kernelspec": {
   "display_name": "Python 3",
   "language": "python",
   "name": "python3"
  },
  "language_info": {
   "codemirror_mode": {
    "name": "ipython",
    "version": 3
   },
   "file_extension": ".py",
   "mimetype": "text/x-python",
   "name": "python",
   "nbconvert_exporter": "python",
   "pygments_lexer": "ipython3",
   "version": "3.11.6"
  }
 },
 "nbformat": 4,
 "nbformat_minor": 2
}
